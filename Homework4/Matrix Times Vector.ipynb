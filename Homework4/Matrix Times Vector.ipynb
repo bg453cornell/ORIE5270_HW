{
 "cells": [
  {
   "cell_type": "code",
   "execution_count": 1,
   "metadata": {},
   "outputs": [],
   "source": [
    "# step1: (i, (ai1, .., ain))                                // read file and add index i (have row uindex in txt file)\n",
    "# step2: (i, ((ai1, 1),..,(ain, n))) using a for loop       // add index of column For j in range(n): yield (aij, j)\n",
    "# step3: (i, vi)    w                                      // add index of vector (use for loop and yield)\n",
    "# step4: (j, (i, aij)) j: column number            z         // flatmap -> (i, (aij, j))   ==>  change pos of i and j\n",
    "# step5: (j, ((i, aij), vj))                                // z.join(w) to join step3 and step4\n",
    "# step6: (j, (i, aijvj))                                    // multiplies vj in\n",
    "# step7: (i, aijvj)                                         // move out i and remove j\n",
    "# step8: (i, sum(aijvj) over j))                            // sum over j (reduce)"
   ]
  },
  {
   "cell_type": "code",
   "execution_count": 2,
   "metadata": {},
   "outputs": [],
   "source": [
    "A = sc.textFile('A')\n",
    "v = sc.textFile('v')"
   ]
  },
  {
   "cell_type": "code",
   "execution_count": 3,
   "metadata": {},
   "outputs": [],
   "source": [
    "A = A.map(lambda l: (l.split(' ')))\n",
    "A = A.map(lambda l: (int(l[0]), tuple(map(float, l[1].split(',')))))"
   ]
  },
  {
   "cell_type": "code",
   "execution_count": 4,
   "metadata": {},
   "outputs": [
    {
     "data": {
      "text/plain": [
       "[(0, (1.0, 2.0, 3.0)), (1, (4.0, 5.0, 6.0)), (2, (7.0, 8.0, 9.0))]"
      ]
     },
     "execution_count": 4,
     "metadata": {},
     "output_type": "execute_result"
    }
   ],
   "source": [
    "A.collect()"
   ]
  },
  {
   "cell_type": "code",
   "execution_count": 5,
   "metadata": {},
   "outputs": [],
   "source": [
    "def add_col_index(l):\n",
    "    for idx, val in enumerate(l):\n",
    "        yield (idx, val)"
   ]
  },
  {
   "cell_type": "code",
   "execution_count": 6,
   "metadata": {},
   "outputs": [],
   "source": [
    "A = A.map(lambda l: (l[0], tuple(enumerate(l[1]))))"
   ]
  },
  {
   "cell_type": "code",
   "execution_count": 7,
   "metadata": {},
   "outputs": [
    {
     "data": {
      "text/plain": [
       "[(0, ((0, 1.0), (1, 2.0), (2, 3.0))),\n",
       " (1, ((0, 4.0), (1, 5.0), (2, 6.0))),\n",
       " (2, ((0, 7.0), (1, 8.0), (2, 9.0)))]"
      ]
     },
     "execution_count": 7,
     "metadata": {},
     "output_type": "execute_result"
    }
   ],
   "source": [
    "A.collect()"
   ]
  },
  {
   "cell_type": "code",
   "execution_count": 8,
   "metadata": {},
   "outputs": [],
   "source": [
    "v = v.map(lambda l: tuple(map(float, l.split(','))))\n",
    "v = v.map(lambda l: tuple(enumerate(l)))\n",
    "v = v.flatMap(lambda l: l)"
   ]
  },
  {
   "cell_type": "code",
   "execution_count": 9,
   "metadata": {},
   "outputs": [
    {
     "data": {
      "text/plain": [
       "[(0, 10.0), (1, 11.0), (2, 12.0)]"
      ]
     },
     "execution_count": 9,
     "metadata": {},
     "output_type": "execute_result"
    }
   ],
   "source": [
    "v.collect()"
   ]
  },
  {
   "cell_type": "code",
   "execution_count": 10,
   "metadata": {},
   "outputs": [],
   "source": [
    "def combine(idx, t):\n",
    "    for tup in t:\n",
    "        yield (idx, tup)"
   ]
  },
  {
   "cell_type": "code",
   "execution_count": 11,
   "metadata": {},
   "outputs": [],
   "source": [
    "flat_A = A.flatMap(lambda l: tuple(combine(l[0], l[1])))\n",
    "flat_A = flat_A.map(lambda l: tuple((l[1][0], (l[0], l[1][1]))))"
   ]
  },
  {
   "cell_type": "code",
   "execution_count": 12,
   "metadata": {},
   "outputs": [
    {
     "data": {
      "text/plain": [
       "[(0, (0, 1.0)),\n",
       " (1, (0, 2.0)),\n",
       " (2, (0, 3.0)),\n",
       " (0, (1, 4.0)),\n",
       " (1, (1, 5.0)),\n",
       " (2, (1, 6.0)),\n",
       " (0, (2, 7.0)),\n",
       " (1, (2, 8.0)),\n",
       " (2, (2, 9.0))]"
      ]
     },
     "execution_count": 12,
     "metadata": {},
     "output_type": "execute_result"
    }
   ],
   "source": [
    "flat_A.collect()"
   ]
  },
  {
   "cell_type": "code",
   "execution_count": 13,
   "metadata": {},
   "outputs": [],
   "source": [
    "joined = flat_A.join(v)"
   ]
  },
  {
   "cell_type": "code",
   "execution_count": 14,
   "metadata": {},
   "outputs": [
    {
     "data": {
      "text/plain": [
       "[(0, ((0, 1.0), 10.0)),\n",
       " (0, ((1, 4.0), 10.0)),\n",
       " (0, ((2, 7.0), 10.0)),\n",
       " (1, ((0, 2.0), 11.0)),\n",
       " (1, ((1, 5.0), 11.0)),\n",
       " (1, ((2, 8.0), 11.0)),\n",
       " (2, ((0, 3.0), 12.0)),\n",
       " (2, ((1, 6.0), 12.0)),\n",
       " (2, ((2, 9.0), 12.0))]"
      ]
     },
     "execution_count": 14,
     "metadata": {},
     "output_type": "execute_result"
    }
   ],
   "source": [
    "joined.collect()"
   ]
  },
  {
   "cell_type": "code",
   "execution_count": 15,
   "metadata": {},
   "outputs": [],
   "source": [
    "joined_ = joined.map(lambda l: (l[0], (l[1][0][0], l[1][0][1]*l[1][1])))"
   ]
  },
  {
   "cell_type": "code",
   "execution_count": 16,
   "metadata": {},
   "outputs": [
    {
     "data": {
      "text/plain": [
       "[(0, (0, 10.0)),\n",
       " (0, (1, 40.0)),\n",
       " (0, (2, 70.0)),\n",
       " (1, (0, 22.0)),\n",
       " (1, (1, 55.0)),\n",
       " (1, (2, 88.0)),\n",
       " (2, (0, 36.0)),\n",
       " (2, (1, 72.0)),\n",
       " (2, (2, 108.0))]"
      ]
     },
     "execution_count": 16,
     "metadata": {},
     "output_type": "execute_result"
    }
   ],
   "source": [
    "joined_.collect()"
   ]
  },
  {
   "cell_type": "code",
   "execution_count": 17,
   "metadata": {},
   "outputs": [],
   "source": [
    "joined_ = joined_.map(lambda l: (l[1][0], l[1][1]))"
   ]
  },
  {
   "cell_type": "code",
   "execution_count": 18,
   "metadata": {},
   "outputs": [
    {
     "data": {
      "text/plain": [
       "[(0, 10.0),\n",
       " (1, 40.0),\n",
       " (2, 70.0),\n",
       " (0, 22.0),\n",
       " (1, 55.0),\n",
       " (2, 88.0),\n",
       " (0, 36.0),\n",
       " (1, 72.0),\n",
       " (2, 108.0)]"
      ]
     },
     "execution_count": 18,
     "metadata": {},
     "output_type": "execute_result"
    }
   ],
   "source": [
    "joined_.collect()"
   ]
  },
  {
   "cell_type": "code",
   "execution_count": 19,
   "metadata": {},
   "outputs": [],
   "source": [
    "sum_ = joined_.reduceByKey(lambda n1, n2: n1+n2)"
   ]
  },
  {
   "cell_type": "code",
   "execution_count": 26,
   "metadata": {},
   "outputs": [
    {
     "data": {
      "text/plain": [
       "[(0, 68.0), (1, 167.0), (2, 266.0)]"
      ]
     },
     "execution_count": 26,
     "metadata": {},
     "output_type": "execute_result"
    }
   ],
   "source": [
    "sum_.collect()"
   ]
  },
  {
   "cell_type": "code",
   "execution_count": 36,
   "metadata": {},
   "outputs": [],
   "source": [
    "output = sum_.map(lambda l: l[1])"
   ]
  },
  {
   "cell_type": "code",
   "execution_count": 37,
   "metadata": {},
   "outputs": [
    {
     "data": {
      "text/plain": [
       "[68.0, 167.0, 266.0]"
      ]
     },
     "execution_count": 37,
     "metadata": {},
     "output_type": "execute_result"
    }
   ],
   "source": [
    "output.collect()"
   ]
  },
  {
   "cell_type": "code",
   "execution_count": null,
   "metadata": {},
   "outputs": [],
   "source": []
  }
 ],
 "metadata": {
  "kernelspec": {
   "display_name": "Python 3",
   "language": "python",
   "name": "python3"
  },
  "language_info": {
   "codemirror_mode": {
    "name": "ipython",
    "version": 3
   },
   "file_extension": ".py",
   "mimetype": "text/x-python",
   "name": "python",
   "nbconvert_exporter": "python",
   "pygments_lexer": "ipython3",
   "version": "3.6.5"
  }
 },
 "nbformat": 4,
 "nbformat_minor": 2
}
