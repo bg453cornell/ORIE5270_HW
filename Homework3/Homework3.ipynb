{
 "cells": [
  {
   "cell_type": "code",
   "execution_count": 1,
   "metadata": {},
   "outputs": [],
   "source": [
    "def read_graph(f):\n",
    "    graph = {}\n",
    "    while True:\n",
    "        line1 = f.readline()\n",
    "        line2 = f.readline()\n",
    "        if not line1: \n",
    "            break\n",
    "        lst = {}\n",
    "        if line2.strip() != '':\n",
    "            splt_line2 = line2.strip().split(',')\n",
    "            for i in range(0, len(splt_line2), 2):\n",
    "                lst[float(splt_line2[i].strip(\"()\"))] = float(splt_line2[i+1].strip(\"()\"))\n",
    "        graph[float(line1.strip())] = lst\n",
    "    return graph"
   ]
  },
  {
   "cell_type": "code",
   "execution_count": 2,
   "metadata": {},
   "outputs": [],
   "source": [
    "def find_shortest_path(name_txt_file, source, destination):\n",
    "    with open(name_txt_file) as f:\n",
    "        graph = read_graph(f)\n",
    "    node_list = list(graph.keys())\n",
    "    \n",
    "    shortest_path_node = set([source, ])\n",
    "    shortest_path = {}\n",
    "    shortest_path[source] = [(source, 0.), ]\n",
    "    \n",
    "    from heapq import heappush, heappop\n",
    "    \n",
    "    min_dist_heap = []\n",
    "    for node, weight in graph[source].items():\n",
    "        heappush(min_dist_heap, (weight, source, node))\n",
    "        \n",
    "    while min_dist_heap:\n",
    "        weight_uv, node_u, node_v = heappop(min_dist_heap)\n",
    "        if node_v not in shortest_path_node:\n",
    "            shortest_path_node.add(node_v)\n",
    "            shortest_path[node_v] = [pair for pair in shortest_path[node_u]]\n",
    "            shortest_path[node_v].append((node_v, weight_uv))\n",
    "            for node, weight in graph[node_v].items():\n",
    "                heappush(min_dist_heap, (weight, node_v, node))\n",
    "    \n",
    "    if destination in shortest_path:\n",
    "        return (sum([value[1] for value in shortest_path[destination]]), \n",
    "                    [value[0] for value in shortest_path[destination]])"
   ]
  },
  {
   "cell_type": "code",
   "execution_count": 3,
   "metadata": {
    "scrolled": true
   },
   "outputs": [
    {
     "data": {
      "text/plain": [
       "(9.0, [1.0, 3.0, 6.0, 5.0, 7.0])"
      ]
     },
     "execution_count": 3,
     "metadata": {},
     "output_type": "execute_result"
    }
   ],
   "source": [
    "find_shortest_path('Dijkstra_graph.txt', 1., 7.)"
   ]
  },
  {
   "cell_type": "code",
   "execution_count": 7,
   "metadata": {},
   "outputs": [],
   "source": [
    "def find_negative_cycles(name_txt_file):\n",
    "    with open(name_txt_file) as f:\n",
    "        graph = read_graph(f)\n",
    "    node_list = list(graph.keys())\n",
    "    \n",
    "    source = node_list[0]\n",
    "    distance = {node: float(\"inf\") for node in node_list}\n",
    "    distance[source] = 0\n",
    "    \n",
    "    for i in range(len(node_list)-1):\n",
    "        for node_u in node_list:\n",
    "            if distance[node_u] !=float(\"inf\"):\n",
    "                for node_v, weight in graph[node_u].items():\n",
    "                    if distance[node_u] + weight < distance[node_v]:\n",
    "                        distance[node_v] = distance[node_u] + weight\n",
    "    \n",
    "    for node_u in node_list:\n",
    "            if distance[node_u] !=float(\"inf\"):\n",
    "                for node_v, weight in graph[node_u].items():\n",
    "                    if distance[node_u] + weight < distance[node_v]:\n",
    "                        print (\"Graph contains a negative cycle\")\n",
    "                        return\n",
    "                    \n",
    "    print (\"Graph has no negative cycle\")\n",
    "    return"
   ]
  },
  {
   "cell_type": "code",
   "execution_count": 8,
   "metadata": {},
   "outputs": [
    {
     "name": "stdout",
     "output_type": "stream",
     "text": [
      "Graph contains a negative cycle\n"
     ]
    }
   ],
   "source": [
    "find_negative_cycles('BF_graph.txt')"
   ]
  },
  {
   "cell_type": "code",
   "execution_count": null,
   "metadata": {},
   "outputs": [],
   "source": []
  }
 ],
 "metadata": {
  "kernelspec": {
   "display_name": "Python 3",
   "language": "python",
   "name": "python3"
  },
  "language_info": {
   "codemirror_mode": {
    "name": "ipython",
    "version": 3
   },
   "file_extension": ".py",
   "mimetype": "text/x-python",
   "name": "python",
   "nbconvert_exporter": "python",
   "pygments_lexer": "ipython3",
   "version": "3.6.5"
  }
 },
 "nbformat": 4,
 "nbformat_minor": 2
}
