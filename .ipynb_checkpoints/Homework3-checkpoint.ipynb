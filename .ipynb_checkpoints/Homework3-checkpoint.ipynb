{
 "cells": [
  {
   "cell_type": "code",
   "execution_count": 1,
   "metadata": {},
   "outputs": [],
   "source": [
    "from collections import defaultdict\n",
    "from heapq import *"
   ]
  },
  {
   "cell_type": "code",
   "execution_count": 2,
   "metadata": {},
   "outputs": [],
   "source": [
    "def dijkstra(edges, source, destination):\n",
    "    g = defaultdict(list)\n",
    "    for l,r,c in edges:\n",
    "        g[l].append((c,r))\n",
    "\n",
    "    q, seen, mins = [(0,f,())], set(), {f: 0}\n",
    "    \n",
    "    while q:\n",
    "        (cost,v1,path) = heappop(q)\n",
    "        if v1 not in seen:\n",
    "            seen.add(v1)\n",
    "            path = (v1, path)\n",
    "            if v1 == t: return (cost, path)\n",
    "\n",
    "            for c, v2 in g.get(v1, ()):\n",
    "                if v2 in seen: continue\n",
    "                prev = mins.get(v2, None)\n",
    "                next = cost + c\n",
    "                if prev is None or next < prev:\n",
    "                    mins[v2] = next\n",
    "                    heappush(q, (next, v2, path))\n",
    "\n",
    "    return float(\"inf\")"
   ]
  },
  {
   "cell_type": "code",
   "execution_count": null,
   "metadata": {},
   "outputs": [],
   "source": []
  }
 ],
 "metadata": {
  "kernelspec": {
   "display_name": "Python 3",
   "language": "python",
   "name": "python3"
  },
  "language_info": {
   "codemirror_mode": {
    "name": "ipython",
    "version": 3
   },
   "file_extension": ".py",
   "mimetype": "text/x-python",
   "name": "python",
   "nbconvert_exporter": "python",
   "pygments_lexer": "ipython3",
   "version": "3.6.5"
  }
 },
 "nbformat": 4,
 "nbformat_minor": 2
}
